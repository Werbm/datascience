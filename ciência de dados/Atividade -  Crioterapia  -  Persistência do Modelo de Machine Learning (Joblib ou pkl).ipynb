{
 "cells": [
  {
   "cell_type": "code",
   "execution_count": 1,
   "metadata": {},
   "outputs": [],
   "source": [
    "# Gerando modelo de Machine Learning (classificação)\n",
    "# Domínio: Pessoas com doença de Verrugas e tratamento com Crioterapia.\n",
    "#Aluno Werbm Luiz Tavares da Silva\n",
    "# werbm.moreira@hotmail.com"
   ]
  },
  {
   "cell_type": "code",
   "execution_count": 2,
   "metadata": {},
   "outputs": [],
   "source": [
    "#Conjunto de importacoes\n",
    "from sklearn.model_selection import train_test_split \n",
    "import pandas as pd\n",
    "import numpy as np\n",
    "import matplotlib.pyplot as plt\n",
    "from sklearn.naive_bayes import MultinomialNB\n",
    "from sklearn.naive_bayes import GaussianNB\n",
    "from sklearn.metrics import accuracy_score"
   ]
  },
  {
   "cell_type": "code",
   "execution_count": 3,
   "metadata": {},
   "outputs": [],
   "source": [
    "#Importação do pacote joblib\n",
    "import joblib"
   ]
  },
  {
   "cell_type": "code",
   "execution_count": 5,
   "metadata": {},
   "outputs": [],
   "source": [
    "#Carrega o dataset com os dados para o treinamento e validacao\n",
    "df_crioterapia_treino = pd.read_csv(\"dados_cryotherapy.csv\", encoding=\"utf-8\")"
   ]
  },
  {
   "cell_type": "code",
   "execution_count": 6,
   "metadata": {},
   "outputs": [
    {
     "data": {
      "text/html": [
       "<div>\n",
       "<style scoped>\n",
       "    .dataframe tbody tr th:only-of-type {\n",
       "        vertical-align: middle;\n",
       "    }\n",
       "\n",
       "    .dataframe tbody tr th {\n",
       "        vertical-align: top;\n",
       "    }\n",
       "\n",
       "    .dataframe thead th {\n",
       "        text-align: right;\n",
       "    }\n",
       "</style>\n",
       "<table border=\"1\" class=\"dataframe\">\n",
       "  <thead>\n",
       "    <tr style=\"text-align: right;\">\n",
       "      <th></th>\n",
       "      <th>Sexo</th>\n",
       "      <th>Idade</th>\n",
       "      <th>Tempo</th>\n",
       "      <th>Numero_Verrugas</th>\n",
       "      <th>Tipo</th>\n",
       "      <th>Area</th>\n",
       "      <th>Resultado_Tratamento</th>\n",
       "    </tr>\n",
       "  </thead>\n",
       "  <tbody>\n",
       "    <tr>\n",
       "      <th>count</th>\n",
       "      <td>90.000000</td>\n",
       "      <td>90.000000</td>\n",
       "      <td>90.000000</td>\n",
       "      <td>90.000000</td>\n",
       "      <td>90.000000</td>\n",
       "      <td>90.000000</td>\n",
       "      <td>90.000000</td>\n",
       "    </tr>\n",
       "    <tr>\n",
       "      <th>mean</th>\n",
       "      <td>1.477778</td>\n",
       "      <td>28.600000</td>\n",
       "      <td>7.344444</td>\n",
       "      <td>5.511111</td>\n",
       "      <td>1.700000</td>\n",
       "      <td>85.833333</td>\n",
       "      <td>0.533333</td>\n",
       "    </tr>\n",
       "    <tr>\n",
       "      <th>std</th>\n",
       "      <td>0.502304</td>\n",
       "      <td>13.360852</td>\n",
       "      <td>3.379253</td>\n",
       "      <td>3.567155</td>\n",
       "      <td>0.905042</td>\n",
       "      <td>131.733153</td>\n",
       "      <td>0.501683</td>\n",
       "    </tr>\n",
       "    <tr>\n",
       "      <th>min</th>\n",
       "      <td>1.000000</td>\n",
       "      <td>15.000000</td>\n",
       "      <td>1.000000</td>\n",
       "      <td>1.000000</td>\n",
       "      <td>1.000000</td>\n",
       "      <td>4.000000</td>\n",
       "      <td>0.000000</td>\n",
       "    </tr>\n",
       "    <tr>\n",
       "      <th>25%</th>\n",
       "      <td>1.000000</td>\n",
       "      <td>18.000000</td>\n",
       "      <td>4.000000</td>\n",
       "      <td>2.000000</td>\n",
       "      <td>1.000000</td>\n",
       "      <td>20.000000</td>\n",
       "      <td>0.000000</td>\n",
       "    </tr>\n",
       "    <tr>\n",
       "      <th>50%</th>\n",
       "      <td>1.000000</td>\n",
       "      <td>25.500000</td>\n",
       "      <td>8.000000</td>\n",
       "      <td>5.000000</td>\n",
       "      <td>1.000000</td>\n",
       "      <td>70.000000</td>\n",
       "      <td>1.000000</td>\n",
       "    </tr>\n",
       "    <tr>\n",
       "      <th>75%</th>\n",
       "      <td>2.000000</td>\n",
       "      <td>35.000000</td>\n",
       "      <td>10.000000</td>\n",
       "      <td>8.000000</td>\n",
       "      <td>3.000000</td>\n",
       "      <td>100.000000</td>\n",
       "      <td>1.000000</td>\n",
       "    </tr>\n",
       "    <tr>\n",
       "      <th>max</th>\n",
       "      <td>2.000000</td>\n",
       "      <td>67.000000</td>\n",
       "      <td>12.000000</td>\n",
       "      <td>12.000000</td>\n",
       "      <td>3.000000</td>\n",
       "      <td>750.000000</td>\n",
       "      <td>1.000000</td>\n",
       "    </tr>\n",
       "  </tbody>\n",
       "</table>\n",
       "</div>"
      ],
      "text/plain": [
       "            Sexo      Idade      Tempo  Numero_Verrugas       Tipo  \\\n",
       "count  90.000000  90.000000  90.000000        90.000000  90.000000   \n",
       "mean    1.477778  28.600000   7.344444         5.511111   1.700000   \n",
       "std     0.502304  13.360852   3.379253         3.567155   0.905042   \n",
       "min     1.000000  15.000000   1.000000         1.000000   1.000000   \n",
       "25%     1.000000  18.000000   4.000000         2.000000   1.000000   \n",
       "50%     1.000000  25.500000   8.000000         5.000000   1.000000   \n",
       "75%     2.000000  35.000000  10.000000         8.000000   3.000000   \n",
       "max     2.000000  67.000000  12.000000        12.000000   3.000000   \n",
       "\n",
       "             Area  Resultado_Tratamento  \n",
       "count   90.000000             90.000000  \n",
       "mean    85.833333              0.533333  \n",
       "std    131.733153              0.501683  \n",
       "min      4.000000              0.000000  \n",
       "25%     20.000000              0.000000  \n",
       "50%     70.000000              1.000000  \n",
       "75%    100.000000              1.000000  \n",
       "max    750.000000              1.000000  "
      ]
     },
     "execution_count": 6,
     "metadata": {},
     "output_type": "execute_result"
    }
   ],
   "source": [
    "df_crioterapia_treino.describe()"
   ]
  },
  {
   "cell_type": "code",
   "execution_count": 7,
   "metadata": {},
   "outputs": [
    {
     "data": {
      "text/plain": [
       "(90, 7)"
      ]
     },
     "execution_count": 7,
     "metadata": {},
     "output_type": "execute_result"
    }
   ],
   "source": [
    "# Verificando o formato dos dados\n",
    "df_crioterapia_treino.shape"
   ]
  },
  {
   "cell_type": "code",
   "execution_count": 8,
   "metadata": {},
   "outputs": [],
   "source": [
    "#Definição dos atributos que deverao ser treinados para gerar o modelo de classificacao\n",
    "data_treino = np.array(df_crioterapia_treino[['Sexo', 'Idade', 'Tempo', 'Numero_Verrugas', 'Tipo', 'Area']])\n",
    "#Definição do atributo de classificacao\n",
    "data_classif = np.array(df_crioterapia_treino['Resultado_Tratamento'])"
   ]
  },
  {
   "cell_type": "code",
   "execution_count": 9,
   "metadata": {},
   "outputs": [
    {
     "data": {
      "text/html": [
       "<div>\n",
       "<style scoped>\n",
       "    .dataframe tbody tr th:only-of-type {\n",
       "        vertical-align: middle;\n",
       "    }\n",
       "\n",
       "    .dataframe tbody tr th {\n",
       "        vertical-align: top;\n",
       "    }\n",
       "\n",
       "    .dataframe thead th {\n",
       "        text-align: right;\n",
       "    }\n",
       "</style>\n",
       "<table border=\"1\" class=\"dataframe\">\n",
       "  <thead>\n",
       "    <tr style=\"text-align: right;\">\n",
       "      <th></th>\n",
       "      <th>Sexo</th>\n",
       "      <th>Idade</th>\n",
       "      <th>Tempo</th>\n",
       "      <th>Numero_Verrugas</th>\n",
       "      <th>Tipo</th>\n",
       "      <th>Area</th>\n",
       "      <th>Resultado_Tratamento</th>\n",
       "    </tr>\n",
       "  </thead>\n",
       "  <tbody>\n",
       "    <tr>\n",
       "      <th>0</th>\n",
       "      <td>1</td>\n",
       "      <td>35</td>\n",
       "      <td>12</td>\n",
       "      <td>5</td>\n",
       "      <td>1</td>\n",
       "      <td>100</td>\n",
       "      <td>0</td>\n",
       "    </tr>\n",
       "    <tr>\n",
       "      <th>1</th>\n",
       "      <td>1</td>\n",
       "      <td>29</td>\n",
       "      <td>7</td>\n",
       "      <td>5</td>\n",
       "      <td>1</td>\n",
       "      <td>96</td>\n",
       "      <td>1</td>\n",
       "    </tr>\n",
       "    <tr>\n",
       "      <th>2</th>\n",
       "      <td>1</td>\n",
       "      <td>50</td>\n",
       "      <td>8</td>\n",
       "      <td>1</td>\n",
       "      <td>3</td>\n",
       "      <td>132</td>\n",
       "      <td>0</td>\n",
       "    </tr>\n",
       "    <tr>\n",
       "      <th>3</th>\n",
       "      <td>1</td>\n",
       "      <td>32</td>\n",
       "      <td>11</td>\n",
       "      <td>7</td>\n",
       "      <td>3</td>\n",
       "      <td>750</td>\n",
       "      <td>0</td>\n",
       "    </tr>\n",
       "    <tr>\n",
       "      <th>4</th>\n",
       "      <td>1</td>\n",
       "      <td>67</td>\n",
       "      <td>9</td>\n",
       "      <td>1</td>\n",
       "      <td>1</td>\n",
       "      <td>42</td>\n",
       "      <td>0</td>\n",
       "    </tr>\n",
       "  </tbody>\n",
       "</table>\n",
       "</div>"
      ],
      "text/plain": [
       "   Sexo  Idade  Tempo  Numero_Verrugas  Tipo  Area  Resultado_Tratamento\n",
       "0     1     35     12                5     1   100                     0\n",
       "1     1     29      7                5     1    96                     1\n",
       "2     1     50      8                1     3   132                     0\n",
       "3     1     32     11                7     3   750                     0\n",
       "4     1     67      9                1     1    42                     0"
      ]
     },
     "execution_count": 9,
     "metadata": {},
     "output_type": "execute_result"
    }
   ],
   "source": [
    "# Verificando as primeiras linhas do dataset\n",
    "df_crioterapia_treino.head(5)"
   ]
  },
  {
   "cell_type": "code",
   "execution_count": 10,
   "metadata": {},
   "outputs": [
    {
     "data": {
      "text/html": [
       "<div>\n",
       "<style scoped>\n",
       "    .dataframe tbody tr th:only-of-type {\n",
       "        vertical-align: middle;\n",
       "    }\n",
       "\n",
       "    .dataframe tbody tr th {\n",
       "        vertical-align: top;\n",
       "    }\n",
       "\n",
       "    .dataframe thead th {\n",
       "        text-align: right;\n",
       "    }\n",
       "</style>\n",
       "<table border=\"1\" class=\"dataframe\">\n",
       "  <thead>\n",
       "    <tr style=\"text-align: right;\">\n",
       "      <th></th>\n",
       "      <th>Sexo</th>\n",
       "      <th>Idade</th>\n",
       "      <th>Tempo</th>\n",
       "      <th>Numero_Verrugas</th>\n",
       "      <th>Tipo</th>\n",
       "      <th>Area</th>\n",
       "      <th>Resultado_Tratamento</th>\n",
       "    </tr>\n",
       "  </thead>\n",
       "  <tbody>\n",
       "    <tr>\n",
       "      <th>85</th>\n",
       "      <td>2</td>\n",
       "      <td>34</td>\n",
       "      <td>12</td>\n",
       "      <td>3</td>\n",
       "      <td>3</td>\n",
       "      <td>95</td>\n",
       "      <td>0</td>\n",
       "    </tr>\n",
       "    <tr>\n",
       "      <th>86</th>\n",
       "      <td>2</td>\n",
       "      <td>20</td>\n",
       "      <td>3</td>\n",
       "      <td>6</td>\n",
       "      <td>1</td>\n",
       "      <td>75</td>\n",
       "      <td>1</td>\n",
       "    </tr>\n",
       "    <tr>\n",
       "      <th>87</th>\n",
       "      <td>2</td>\n",
       "      <td>35</td>\n",
       "      <td>8</td>\n",
       "      <td>8</td>\n",
       "      <td>3</td>\n",
       "      <td>100</td>\n",
       "      <td>0</td>\n",
       "    </tr>\n",
       "    <tr>\n",
       "      <th>88</th>\n",
       "      <td>1</td>\n",
       "      <td>24</td>\n",
       "      <td>10</td>\n",
       "      <td>10</td>\n",
       "      <td>1</td>\n",
       "      <td>20</td>\n",
       "      <td>1</td>\n",
       "    </tr>\n",
       "    <tr>\n",
       "      <th>89</th>\n",
       "      <td>1</td>\n",
       "      <td>19</td>\n",
       "      <td>8</td>\n",
       "      <td>8</td>\n",
       "      <td>1</td>\n",
       "      <td>160</td>\n",
       "      <td>1</td>\n",
       "    </tr>\n",
       "  </tbody>\n",
       "</table>\n",
       "</div>"
      ],
      "text/plain": [
       "    Sexo  Idade  Tempo  Numero_Verrugas  Tipo  Area  Resultado_Tratamento\n",
       "85     2     34     12                3     3    95                     0\n",
       "86     2     20      3                6     1    75                     1\n",
       "87     2     35      8                8     3   100                     0\n",
       "88     1     24     10               10     1    20                     1\n",
       "89     1     19      8                8     1   160                     1"
      ]
     },
     "execution_count": 10,
     "metadata": {},
     "output_type": "execute_result"
    }
   ],
   "source": [
    "# Verificando as ultimas linhas do dataset\n",
    "df_crioterapia_treino.tail(5)"
   ]
  },
  {
   "cell_type": "code",
   "execution_count": 11,
   "metadata": {},
   "outputs": [],
   "source": [
    "# Identificando a correlação entre as variáveis\n",
    "# Correlação não implica causalidade\n",
    "def plot_corr(df_crioterapia_treino, size=35):\n",
    "    corr = df_crioterapia_treino.corr()    \n",
    "    fig, ax = plt.subplots(figsize = (size, size))\n",
    "    ax.matshow(corr)  \n",
    "    plt.xticks(range(len(corr.columns)), corr.columns) \n",
    "    plt.yticks(range(len(corr.columns)), corr.columns) "
   ]
  },
  {
   "cell_type": "code",
   "execution_count": 12,
   "metadata": {},
   "outputs": [
    {
     "data": {
      "image/png": "[encoded data removed]",
      "text/plain": [
       "<Figure size 3500x3500 with 1 Axes>"
      ]
     },
     "metadata": {},
     "output_type": "display_data"
    }
   ],
   "source": [
    "# Criando o gráfico - Matriz de Correlação..\n",
    "plot_corr(df_crioterapia_treino)"
   ]
  },
  {
   "cell_type": "code",
   "execution_count": 13,
   "metadata": {},
   "outputs": [],
   "source": [
    "# Spliting = 70% para dados de treino e 30% para dados de teste"
   ]
  },
  {
   "cell_type": "code",
   "execution_count": 15,
   "metadata": {},
   "outputs": [],
   "source": [
    "#Definição dos conjuntos de treinamento e validação\n",
    "x_treino, x_val, y_treino, y_val = train_test_split(data_treino, data_classif, test_size=0.30)"
   ]
  },
  {
   "cell_type": "code",
   "execution_count": 16,
   "metadata": {},
   "outputs": [
    {
     "name": "stdout",
     "output_type": "stream",
     "text": [
      "-----------------------\n",
      "Conjunto de Treinamento\n",
      "[[  1  32  11   7   3 750]\n",
      " [  1  34  12   1   3 150]\n",
      " [  1  15   3   2   1   4]\n",
      " [  2  22   5   9   1  70]\n",
      " [  1  17   5   4   1  63]\n",
      " [  2  21  10   5   1  35]\n",
      " [  1  17   9  12   1  10]\n",
      " [  1  40  11   9   2  80]\n",
      " [  1  20   3  11   1  75]\n",
      " [  1  27  10   7   1   6]\n",
      " [  1  28   4   3   1 100]\n",
      " [  2  28   5   9   1 100]\n",
      " [  2  34  11   3   3 150]\n",
      " [  1  19   8   8   1 160]\n",
      " [  1  67  10   7   1  42]\n",
      " [  2  40   8   6   2  80]\n",
      " [  2  18   5   1   1  80]\n",
      " [  1  29   7   6   1  96]\n",
      " [  2  15   4   1   1   6]\n",
      " [  2  35   8   6   3 100]\n",
      " [  1  36  11   2   1   8]\n",
      " [  1  24   9   8   1  20]\n",
      " [  2  15   2  10   3  70]\n",
      " [  2  15   3   2   3  70]\n",
      " [  2  50   9   4   3 132]\n",
      " [  2  32  12   4   3 750]\n",
      " [  1  15  10  11   1  30]\n",
      " [  2  21  10   5   1  35]\n",
      " [  2  20   3   6   1  75]\n",
      " [  1  63   2   3   3  20]\n",
      " [  1  20   1   2   1  75]\n",
      " [  1  29   7   5   1  96]\n",
      " [  2  34  12   3   3  95]\n",
      " [  1  67   3  11   3  20]\n",
      " [  1  20   5   3   1   6]\n",
      " [  2  17   3   3   1  63]\n",
      " [  2  34  12   3   3  95]\n",
      " [  1  17  11   2   1  10]\n",
      " [  2  41  10   2   2  20]\n",
      " [  1  35   9   9   1 100]\n",
      " [  1  67   9   1   1  42]\n",
      " [  1  20   4  12   1   6]\n",
      " [  2  15   6   2   1  30]\n",
      " [  2  41   7   5   2  20]\n",
      " [  2  30   1   8   3 115]\n",
      " [  2  19   8   9   1 160]\n",
      " [  1  50   8   1   3 132]\n",
      " [  1  16  10   3   2  60]\n",
      " [  1  27  10   5   1   6]\n",
      " [  2  22   5   2   1  70]\n",
      " [  2  15   2   3   1   4]\n",
      " [  2  35  12   5   3 100]\n",
      " [  2  40   9   1   2  80]\n",
      " [  1  15   4   7   1   6]\n",
      " [  2  35   8   8   3 100]\n",
      " [  1  20   4   3   1   6]\n",
      " [  1  35   7   2   1 100]\n",
      " [  1  59   3   3   3  20]\n",
      " [  2  28   4  11   1 100]\n",
      " [  1  15   2  11   1   4]\n",
      " [  1  15   5   5   1   6]\n",
      " [  2  67  12  12   3  42]\n",
      " [  2  23  11  12   3  72]]\n",
      "Conjunto de Validacao\n",
      "[[  1  50   8  11   3 132]\n",
      " [  1  30   1  10   1 115]\n",
      " [  1  24  10  10   1  20]\n",
      " [  2  15   1  12   3  70]\n",
      " [  1  30   2   2   1 115]\n",
      " [  1  16  11   3   2  60]\n",
      " [  2  16   8   1   2  60]\n",
      " [  1  29  11   5   1  96]\n",
      " [  1  35  12   5   1 100]\n",
      " [  1  34  10   1   3  95]\n",
      " [  1  23  10   7   3  72]\n",
      " [  2  23   9   5   3  72]\n",
      " [  2  15   8  12   1  30]\n",
      " [  2  32  12  12   3 750]\n",
      " [  1  34  11   1   3 150]\n",
      " [  2  27   8   2   1   6]\n",
      " [  2  36  10   4   1   8]\n",
      " [  1  41   8   2   2  20]\n",
      " [  2  17  11   2   1  10]\n",
      " [  1  22   5   2   1  70]\n",
      " [  2  18   4   8   1  80]\n",
      " [  2  19   8   6   1 160]\n",
      " [  1  17   5  10   1  63]\n",
      " [  2  21  10   7   1  35]\n",
      " [  1  18   4   1   1  80]\n",
      " [  2  24   9   3   3  20]\n",
      " [  2  36  11   6   1   8]]\n",
      "-----------------------\n"
     ]
    }
   ],
   "source": [
    "#Apresentacao dos dados selecionados para o conjunto de treinamento e validacao\n",
    "print(\"-----------------------\")\n",
    "print(\"Conjunto de Treinamento\")\n",
    "print(x_treino)\n",
    "print(\"Conjunto de Validacao\")\n",
    "print(x_val)\n",
    "print(\"-----------------------\")"
   ]
  },
  {
   "cell_type": "code",
   "execution_count": 17,
   "metadata": {},
   "outputs": [
    {
     "name": "stdout",
     "output_type": "stream",
     "text": [
      "70.00% nos dados de treino\n",
      "30.00% nos dados de teste\n"
     ]
    }
   ],
   "source": [
    "# Imprimindo os resultados\n",
    "print(\"{0:0.2f}% nos dados de treino\".format((len(x_treino)/len(df_crioterapia_treino.index)) * 100))\n",
    "print(\"{0:0.2f}% nos dados de teste\".format((len(x_val)/len(df_crioterapia_treino.index)) * 100))"
   ]
  },
  {
   "cell_type": "code",
   "execution_count": 18,
   "metadata": {},
   "outputs": [],
   "source": [
    "# - Aplicando o Algoritmo com o Naive Bayes - GaussianNB."
   ]
  },
  {
   "cell_type": "code",
   "execution_count": 19,
   "metadata": {},
   "outputs": [
    {
     "data": {
      "text/plain": [
       "GaussianNB()"
      ]
     },
     "execution_count": 19,
     "metadata": {},
     "output_type": "execute_result"
    }
   ],
   "source": [
    "#Treinamento do modelo com os dados atribuidos ao conjunto de treinamento\n",
    "modelo_NB = GaussianNB()\n",
    "modelo_NB.fit(x_treino, y_treino)"
   ]
  },
  {
   "cell_type": "code",
   "execution_count": 20,
   "metadata": {},
   "outputs": [
    {
     "name": "stdout",
     "output_type": "stream",
     "text": [
      "Predicao para o conjunto de treinamento\n",
      "Acuracia para o conjunto de treinamento\n",
      "0.873015873015873\n",
      "Na Base de Treinamento\n"
     ]
    }
   ],
   "source": [
    "#Predição e acurácia para o conjunto de treinamento\n",
    "print(\"Predicao para o conjunto de treinamento\")\n",
    "y_pred_treino = modelo_NB.predict(x_treino)\n",
    "print(\"Acuracia para o conjunto de treinamento\")\n",
    "print(accuracy_score(y_treino, y_pred_treino))\n",
    "print(\"Na Base de Treinamento\")"
   ]
  },
  {
   "cell_type": "code",
   "execution_count": 21,
   "metadata": {},
   "outputs": [
    {
     "name": "stdout",
     "output_type": "stream",
     "text": [
      "Predicao para o conjunto de validacao\n",
      "Acuracia para o conjunto de validacao\n",
      "0.8148148148148148\n",
      "na Base de Teste\n"
     ]
    }
   ],
   "source": [
    "#Predição e acurácia para o conjunto de validação\n",
    "print(\"Predicao para o conjunto de validacao\")\n",
    "y_pred_val = modelo_NB.predict(x_val)\n",
    "print(\"Acuracia para o conjunto de validacao\")\n",
    "print(accuracy_score(y_val, y_pred_val))\n",
    "print(\"na Base de Teste\")"
   ]
  },
  {
   "cell_type": "code",
   "execution_count": 22,
   "metadata": {},
   "outputs": [
    {
     "data": {
      "text/plain": [
       "['modelo_crioterapia_MNB.pkl']"
      ]
     },
     "execution_count": 22,
     "metadata": {},
     "output_type": "execute_result"
    }
   ],
   "source": [
    "#Persistência do modelo no arquivo modelo_mamifero_MNB.pkl\n",
    "joblib.dump(modelo_NB, 'modelo_crioterapia_MNB.pkl')"
   ]
  }
 ],
 "metadata": {
  "kernelspec": {
   "display_name": "Python 3 (ipykernel)",
   "language": "python",
   "name": "python3"
  },
  "language_info": {
   "codemirror_mode": {
    "name": "ipython",
    "version": 3
   },
   "file_extension": ".py",
   "mimetype": "text/x-python",
   "name": "python",
   "nbconvert_exporter": "python",
   "pygments_lexer": "ipython3",
   "version": "3.11.3"
  }
 },
 "nbformat": 4,
 "nbformat_minor": 2
}
